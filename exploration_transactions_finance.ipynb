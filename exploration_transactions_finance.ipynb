{
 "cells": [
  {
   "cell_type": "code",
   "execution_count": null,
   "id": "b6de61a7",
   "metadata": {},
   "outputs": [],
   "source": [
    "# Projet Python pour la Finance - Analyse de Transactions"
   ]
  },
  {
   "cell_type": "code",
   "execution_count": null,
   "id": "bf193d0b",
   "metadata": {},
   "outputs": [],
   "source": [
    "## 1. Import des bibliothèques\n",
    "import pandas as pd\n",
    "import matplotlib.pyplot as plt\n",
    "import seaborn as sns\n",
    "import plotly.express as px"
   ]
  },
  {
   "cell_type": "code",
   "execution_count": null,
   "id": "991a4c58",
   "metadata": {},
   "outputs": [],
   "source": [
    "# Affichage clair\n",
    "pd.set_option('display.max_columns', None)"
   ]
  },
  {
   "cell_type": "code",
   "execution_count": null,
   "id": "845b4c9c",
   "metadata": {},
   "outputs": [],
   "source": [
    "## 2. Chargement des données\n",
    "df = pd.read_csv(\"Transactions_data_complet.csv\")"
   ]
  },
  {
   "cell_type": "code",
   "execution_count": null,
   "id": "0e82cad8",
   "metadata": {},
   "outputs": [],
   "source": [
    "## 3. Nettoyage et préparation\n",
    "df['TransactionStartTime'] = pd.to_datetime(df['TransactionStartTime'])\n",
    "df['Year'] = df['TransactionStartTime'].dt.year\n",
    "df['Month'] = df['TransactionStartTime'].dt.month\n",
    "df['DayOfWeek'] = df['TransactionStartTime'].dt.day_name()\n",
    "df['Hour'] = df['TransactionStartTime'].dt.hour"
   ]
  },
  {
   "cell_type": "code",
   "execution_count": null,
   "id": "95948967",
   "metadata": {},
   "outputs": [],
   "source": [
    "## 4. Aperçu général\n",
    "print(\"Aperçu du jeu de données :\")\n",
    "print(df.head())"
   ]
  },
  {
   "cell_type": "code",
   "execution_count": null,
   "id": "06029244",
   "metadata": {},
   "outputs": [],
   "source": [
    "print(\"\\nStatistiques descriptives :\")\n",
    "print(df.describe(include='all'))"
   ]
  },
  {
   "cell_type": "code",
   "execution_count": null,
   "id": "5d04913c",
   "metadata": {},
   "outputs": [],
   "source": [
    "print(\"\\nValeurs manquantes :\")\n",
    "print(df.isnull().sum())"
   ]
  },
  {
   "cell_type": "code",
   "execution_count": null,
   "id": "6f66ffb1",
   "metadata": {},
   "outputs": [],
   "source": [
    "## 5. Analyse de la fraude\n",
    "fraud_counts = df['FraudResult'].value_counts()\n",
    "fraud_percentage = df['FraudResult'].value_counts(normalize=True) * 100"
   ]
  },
  {
   "cell_type": "code",
   "execution_count": null,
   "id": "19fa31b5",
   "metadata": {},
   "outputs": [],
   "source": [
    "print(\"\\nRépartition de la variable 'FraudResult' :\")\n",
    "print(fraud_counts)\n",
    "print(\"\\nPourcentage :\")\n",
    "print(fraud_percentage)"
   ]
  },
  {
   "cell_type": "code",
   "execution_count": null,
   "id": "2dc3e33b",
   "metadata": {},
   "outputs": [],
   "source": [
    "## 6. Visualisations"
   ]
  },
  {
   "cell_type": "code",
   "execution_count": null,
   "id": "3f574780",
   "metadata": {},
   "outputs": [],
   "source": [
    "### Histogramme du montant des transactions\n",
    "plt.figure(figsize=(10,6))\n",
    "sns.histplot(df['Amount'], bins=50, kde=True)\n",
    "plt.title(\"Distribution des montants de transaction\")\n",
    "plt.xlabel(\"Montant\")\n",
    "plt.ylabel(\"Fréquence\")\n",
    "plt.show()"
   ]
  },
  {
   "cell_type": "code",
   "execution_count": null,
   "id": "3670f258",
   "metadata": {},
   "outputs": [],
   "source": [
    "### Répartition des fraudes par canal\n",
    "fraud_by_channel = df[df['FraudResult'] == 1]['ChannelId'].value_counts()\n",
    "plt.figure(figsize=(8,5))\n",
    "fraud_by_channel.plot(kind='bar', color='crimson')\n",
    "plt.title(\"Fraudes par canal\")\n",
    "plt.xlabel(\"ChannelId\")\n",
    "plt.ylabel(\"Nombre de fraudes\")\n",
    "plt.show()"
   ]
  },
  {
   "cell_type": "code",
   "execution_count": null,
   "id": "3ea76a21",
   "metadata": {},
   "outputs": [],
   "source": [
    "### Heatmap de corrélation\n",
    "plt.figure(figsize=(12,8))\n",
    "sns.heatmap(df.corr(numeric_only=True), annot=True, cmap='coolwarm')\n",
    "plt.title(\"Corrélation entre variables numériques\")\n",
    "plt.show()"
   ]
  },
  {
   "cell_type": "code",
   "execution_count": null,
   "id": "6dccb3ee",
   "metadata": {},
   "outputs": [],
   "source": [
    "### Boxplot du montant par catégorie de produit\n",
    "plt.figure(figsize=(12,6))\n",
    "sns.boxplot(x='ProductCategory', y='Amount', data=df)\n",
    "plt.title(\"Montant par catégorie de produit\")\n",
    "plt.xticks(rotation=45)\n",
    "plt.show()"
   ]
  },
  {
   "cell_type": "code",
   "execution_count": null,
   "id": "a0b39f53",
   "metadata": {},
   "outputs": [],
   "source": [
    "### Graphique interactif - Fraude par jour de la semaine\n",
    "fig = px.histogram(df, x=\"DayOfWeek\", color=\"FraudResult\", barmode=\"group\",\n",
    "                   category_orders={\"DayOfWeek\": [\"Monday\", \"Tuesday\", \"Wednesday\", \"Thursday\", \"Friday\", \"Saturday\", \"Sunday\"]},\n",
    "                   title=\"Répartition des fraudes par jour de la semaine\")\n",
    "fig.show()"
   ]
  }
 ],
 "metadata": {},
 "nbformat": 4,
 "nbformat_minor": 5
}
